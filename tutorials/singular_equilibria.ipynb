{
 "cells": [
  {
   "cell_type": "code",
   "execution_count": 1,
   "metadata": {},
   "outputs": [],
   "source": [
    "from ramp_systems.cyclic_feedback_system import CyclicFeedbackSystem\n",
    "import numpy as np\n",
    "import DSGRN\n",
    "import sympy\n",
    "import matplotlib.pyplot as plt"
   ]
  },
  {
   "cell_type": "markdown",
   "metadata": {},
   "source": [
    "### A couple functions to facilitate plotting the distance of the singular equilibrium from the singular cell's walls. "
   ]
  },
  {
   "cell_type": "code",
   "execution_count": 2,
   "metadata": {},
   "outputs": [],
   "source": [
    "def sing_eq_distance_from_theta(sing_eq_func,eps_func,s_val,CFS):\n",
    "    \"\"\"\n",
    "    Compute the distance of the singular equilibrium from the intersection of thresholds. \n",
    "    Raises a ValueError if the singular equilibrium isn't in the singular equilibrium cell. \n",
    "    \n",
    "    :param sing_eq_func: output of CFS.singular_equilibrium(eps_func = eps_func)\n",
    "    :param eps_func: sympy expression with symbol s\n",
    "    :param s_val: value of s at which to compute the distance\n",
    "    :param CFS: CyclicFeedbackSystem object\n",
    "    :return: float describing the minimum distance from the singular equilibrium to a cell wall. \n",
    "    \"\"\"\n",
    "    x_val = sing_eq_func(s_val)\n",
    "    s = sympy.symbols('s')\n",
    "    eps_val = eps_func.subs(s,s_val)\n",
    "    distances = []\n",
    "    theta = CFS.theta\n",
    "    rho = CFS.rho\n",
    "    for i in range(len(x_val)):\n",
    "        cur_distance = abs(x_val[i,0] - theta[rho[i],i])/eps_val[rho[i],i]\n",
    "        if x_val[i,0] > theta[rho[i],i] + eps_val[rho[i],i] or x_val[i,0] < theta[rho[i],i] - eps_val[rho[i],i]:\n",
    "            raise ValueError('Singular equilibrium does not exist when s_val = {}'.format(s_val))\n",
    "        distances.append(cur_distance)\n",
    "    return min(distances)"
   ]
  },
  {
   "cell_type": "code",
   "execution_count": 3,
   "metadata": {},
   "outputs": [],
   "source": [
    "def plot_distances(sing_eq_func,eps_func,s_vals,CFS):\n",
    "    \"\"\"\n",
    "    Plot the output of sing_eq_distance_from_walls for a range of s values. \n",
    "    \n",
    "    :param sing_eq_func: output of CFS.singular_equilibrium(eps_func = eps_func)\n",
    "    :param eps_func: sympy expression with symbol s\n",
    "    :param s_vals: list of values of s at which to compute the distances\n",
    "    :param CFS: CyclicFeedbackSystem object\n",
    "    :return: tuple of matplotlib objects (fig,ax)\n",
    "    \"\"\"\n",
    "    fig, ax = plt.subplots()\n",
    "    distances = []\n",
    "    for s_val in s_vals:\n",
    "        distances.append(sing_eq_distance_from_theta(sing_eq_func,eps_func,s_val,CFS))\n",
    "    ax.set_ylim(0,1.1)\n",
    "    ax.plot(s_vals,distances)\n",
    "    return fig, ax"
   ]
  },
  {
   "cell_type": "markdown",
   "metadata": {},
   "source": [
    "### Create a CyclicFeedbackSystem object."
   ]
  },
  {
   "cell_type": "code",
   "execution_count": 4,
   "metadata": {},
   "outputs": [],
   "source": [
    "Network = DSGRN.Network(\"X0: ~X1 \\n X1: X0\")\n",
    "L = np.array([[0,1],[1,0]])\n",
    "Delta = np.array([[0,1],[1,0]])\n",
    "theta = np.array([[0,1.8],[1.1,0]])\n",
    "gamma = np.array([1,1])\n",
    "CFS = CyclicFeedbackSystem(Network,L,Delta,theta,gamma)"
   ]
  },
  {
   "cell_type": "markdown",
   "metadata": {},
   "source": [
    "### Parameterize eps and get the singular equilibrium function."
   ]
  },
  {
   "cell_type": "code",
   "execution_count": 5,
   "metadata": {},
   "outputs": [],
   "source": [
    "s = sympy.symbols('s')\n",
    "eps_func = sympy.Matrix([[0,1],[1,0]])*s\n",
    "x = CFS.singular_equilibrium(eps_func = eps_func)"
   ]
  },
  {
   "cell_type": "markdown",
   "metadata": {},
   "source": [
    "### Plot the normalized distances. "
   ]
  },
  {
   "cell_type": "code",
   "execution_count": 6,
   "metadata": {},
   "outputs": [
    {
     "data": {
      "text/plain": [
       "(<Figure size 432x288 with 1 Axes>, <AxesSubplot:>)"
      ]
     },
     "execution_count": 6,
     "metadata": {},
     "output_type": "execute_result"
    },
    {
     "data": {
      "image/png": "[encoded data removed]",
      "text/plain": [
       "<Figure size 432x288 with 1 Axes>"
      ]
     },
     "metadata": {
      "needs_background": "light"
     },
     "output_type": "display_data"
    }
   ],
   "source": [
    "s_vals = np.linspace(0.001,1,100)\n",
    "plot_distances(x,eps_func,s_vals,CFS)"
   ]
  },
  {
   "cell_type": "code",
   "execution_count": null,
   "metadata": {},
   "outputs": [],
   "source": []
  }
 ],
 "metadata": {
  "kernelspec": {
   "display_name": "Python 3",
   "language": "python",
   "name": "python3"
  },
  "language_info": {
   "codemirror_mode": {
    "name": "ipython",
    "version": 3
   },
   "file_extension": ".py",
   "mimetype": "text/x-python",
   "name": "python",
   "nbconvert_exporter": "python",
   "pygments_lexer": "ipython3",
   "version": "3.7.7"
  }
 },
 "nbformat": 4,
 "nbformat_minor": 4
}
